{
 "cells": [
  {
   "cell_type": "code",
   "execution_count": 1,
   "id": "9d850d78",
   "metadata": {},
   "outputs": [
    {
     "name": "stdout",
     "output_type": "stream",
     "text": [
      "         date  wm_yr_wk    weekday  wday  month  year event_name_1  \\\n",
      "0  2011-01-29     11101   Saturday     1      1  2011          NaN   \n",
      "1  2011-01-30     11101     Sunday     2      1  2011          NaN   \n",
      "2  2011-01-31     11101     Monday     3      1  2011          NaN   \n",
      "3  2011-02-01     11101    Tuesday     4      2  2011          NaN   \n",
      "4  2011-02-02     11101  Wednesday     5      2  2011          NaN   \n",
      "\n",
      "  event_type_1 event_name_2 event_type_2  snap_CA  snap_TX  snap_WI  \n",
      "0          NaN          NaN          NaN        0        0        0  \n",
      "1          NaN          NaN          NaN        0        0        0  \n",
      "2          NaN          NaN          NaN        0        0        0  \n",
      "3          NaN          NaN          NaN        1        1        0  \n",
      "4          NaN          NaN          NaN        1        0        1  \n"
     ]
    }
   ],
   "source": [
    "import dask\n",
    "import dask.dataframe as dd\n",
    "import pandas as pd\n",
    "from dask.delayed import delayed\n",
    "import matplotlib.pyplot as plt\n",
    "import seaborn as sns\n",
    "\n",
    "data = pd.read_csv(r\"C:\\Users\\user\\Desktop\\M5\\data/calendar.csv\")\n",
    "print(data.head())"
   ]
  },
  {
   "cell_type": "code",
   "execution_count": 2,
   "id": "9bffd023",
   "metadata": {},
   "outputs": [
    {
     "data": {
      "text/html": [
       "<div>\n",
       "<style scoped>\n",
       "    .dataframe tbody tr th:only-of-type {\n",
       "        vertical-align: middle;\n",
       "    }\n",
       "\n",
       "    .dataframe tbody tr th {\n",
       "        vertical-align: top;\n",
       "    }\n",
       "\n",
       "    .dataframe thead th {\n",
       "        text-align: right;\n",
       "    }\n",
       "</style>\n",
       "<table border=\"1\" class=\"dataframe\">\n",
       "  <thead>\n",
       "    <tr style=\"text-align: right;\">\n",
       "      <th></th>\n",
       "      <th>date</th>\n",
       "      <th>wm_yr_wk</th>\n",
       "      <th>weekday</th>\n",
       "      <th>wday</th>\n",
       "      <th>month</th>\n",
       "      <th>year</th>\n",
       "      <th>event_name_1</th>\n",
       "      <th>event_type_1</th>\n",
       "      <th>event_name_2</th>\n",
       "      <th>event_type_2</th>\n",
       "      <th>snap_CA</th>\n",
       "      <th>snap_TX</th>\n",
       "      <th>snap_WI</th>\n",
       "    </tr>\n",
       "  </thead>\n",
       "  <tbody>\n",
       "    <tr>\n",
       "      <th>1964</th>\n",
       "      <td>2016-06-15</td>\n",
       "      <td>11620</td>\n",
       "      <td>Wednesday</td>\n",
       "      <td>5</td>\n",
       "      <td>6</td>\n",
       "      <td>2016</td>\n",
       "      <td>NaN</td>\n",
       "      <td>NaN</td>\n",
       "      <td>NaN</td>\n",
       "      <td>NaN</td>\n",
       "      <td>0</td>\n",
       "      <td>1</td>\n",
       "      <td>1</td>\n",
       "    </tr>\n",
       "    <tr>\n",
       "      <th>1965</th>\n",
       "      <td>2016-06-16</td>\n",
       "      <td>11620</td>\n",
       "      <td>Thursday</td>\n",
       "      <td>6</td>\n",
       "      <td>6</td>\n",
       "      <td>2016</td>\n",
       "      <td>NaN</td>\n",
       "      <td>NaN</td>\n",
       "      <td>NaN</td>\n",
       "      <td>NaN</td>\n",
       "      <td>0</td>\n",
       "      <td>0</td>\n",
       "      <td>0</td>\n",
       "    </tr>\n",
       "    <tr>\n",
       "      <th>1966</th>\n",
       "      <td>2016-06-17</td>\n",
       "      <td>11620</td>\n",
       "      <td>Friday</td>\n",
       "      <td>7</td>\n",
       "      <td>6</td>\n",
       "      <td>2016</td>\n",
       "      <td>NaN</td>\n",
       "      <td>NaN</td>\n",
       "      <td>NaN</td>\n",
       "      <td>NaN</td>\n",
       "      <td>0</td>\n",
       "      <td>0</td>\n",
       "      <td>0</td>\n",
       "    </tr>\n",
       "    <tr>\n",
       "      <th>1967</th>\n",
       "      <td>2016-06-18</td>\n",
       "      <td>11621</td>\n",
       "      <td>Saturday</td>\n",
       "      <td>1</td>\n",
       "      <td>6</td>\n",
       "      <td>2016</td>\n",
       "      <td>NaN</td>\n",
       "      <td>NaN</td>\n",
       "      <td>NaN</td>\n",
       "      <td>NaN</td>\n",
       "      <td>0</td>\n",
       "      <td>0</td>\n",
       "      <td>0</td>\n",
       "    </tr>\n",
       "    <tr>\n",
       "      <th>1968</th>\n",
       "      <td>2016-06-19</td>\n",
       "      <td>11621</td>\n",
       "      <td>Sunday</td>\n",
       "      <td>2</td>\n",
       "      <td>6</td>\n",
       "      <td>2016</td>\n",
       "      <td>NBAFinalsEnd</td>\n",
       "      <td>Sporting</td>\n",
       "      <td>Father's day</td>\n",
       "      <td>Cultural</td>\n",
       "      <td>0</td>\n",
       "      <td>0</td>\n",
       "      <td>0</td>\n",
       "    </tr>\n",
       "  </tbody>\n",
       "</table>\n",
       "</div>"
      ],
      "text/plain": [
       "            date  wm_yr_wk    weekday  wday  month  year  event_name_1  \\\n",
       "1964  2016-06-15     11620  Wednesday     5      6  2016           NaN   \n",
       "1965  2016-06-16     11620   Thursday     6      6  2016           NaN   \n",
       "1966  2016-06-17     11620     Friday     7      6  2016           NaN   \n",
       "1967  2016-06-18     11621   Saturday     1      6  2016           NaN   \n",
       "1968  2016-06-19     11621     Sunday     2      6  2016  NBAFinalsEnd   \n",
       "\n",
       "     event_type_1  event_name_2 event_type_2  snap_CA  snap_TX  snap_WI  \n",
       "1964          NaN           NaN          NaN        0        1        1  \n",
       "1965          NaN           NaN          NaN        0        0        0  \n",
       "1966          NaN           NaN          NaN        0        0        0  \n",
       "1967          NaN           NaN          NaN        0        0        0  \n",
       "1968     Sporting  Father's day     Cultural        0        0        0  "
      ]
     },
     "execution_count": 2,
     "metadata": {},
     "output_type": "execute_result"
    }
   ],
   "source": [
    "data.tail()"
   ]
  },
  {
   "cell_type": "code",
   "execution_count": 3,
   "id": "061819b1",
   "metadata": {},
   "outputs": [
    {
     "data": {
      "text/plain": [
       "Index(['date', 'wm_yr_wk', 'weekday', 'wday', 'month', 'year', 'event_name_1',\n",
       "       'event_type_1', 'event_name_2', 'event_type_2', 'snap_CA', 'snap_TX',\n",
       "       'snap_WI'],\n",
       "      dtype='object')"
      ]
     },
     "execution_count": 3,
     "metadata": {},
     "output_type": "execute_result"
    }
   ],
   "source": [
    "data.columns"
   ]
  },
  {
   "cell_type": "code",
   "execution_count": 4,
   "id": "507d6c97",
   "metadata": {},
   "outputs": [
    {
     "data": {
      "text/plain": [
       "(1969, 13)"
      ]
     },
     "execution_count": 4,
     "metadata": {},
     "output_type": "execute_result"
    }
   ],
   "source": [
    "data.shape\n"
   ]
  },
  {
   "cell_type": "code",
   "execution_count": 22,
   "id": "3c475853",
   "metadata": {},
   "outputs": [
    {
     "data": {
      "text/plain": [
       "int64     7\n",
       "object    6\n",
       "dtype: int64"
      ]
     },
     "execution_count": 22,
     "metadata": {},
     "output_type": "execute_result"
    }
   ],
   "source": [
    "data.dtypes.value_counts()"
   ]
  },
  {
   "cell_type": "code",
   "execution_count": 6,
   "id": "a5e09b33",
   "metadata": {},
   "outputs": [
    {
     "data": {
      "text/html": [
       "<div>\n",
       "<style scoped>\n",
       "    .dataframe tbody tr th:only-of-type {\n",
       "        vertical-align: middle;\n",
       "    }\n",
       "\n",
       "    .dataframe tbody tr th {\n",
       "        vertical-align: top;\n",
       "    }\n",
       "\n",
       "    .dataframe thead th {\n",
       "        text-align: right;\n",
       "    }\n",
       "</style>\n",
       "<table border=\"1\" class=\"dataframe\">\n",
       "  <thead>\n",
       "    <tr style=\"text-align: right;\">\n",
       "      <th></th>\n",
       "      <th>wm_yr_wk</th>\n",
       "      <th>wday</th>\n",
       "      <th>month</th>\n",
       "      <th>year</th>\n",
       "      <th>snap_CA</th>\n",
       "      <th>snap_TX</th>\n",
       "      <th>snap_WI</th>\n",
       "    </tr>\n",
       "  </thead>\n",
       "  <tbody>\n",
       "    <tr>\n",
       "      <th>count</th>\n",
       "      <td>1969.000000</td>\n",
       "      <td>1969.000000</td>\n",
       "      <td>1969.000000</td>\n",
       "      <td>1969.000000</td>\n",
       "      <td>1969.000000</td>\n",
       "      <td>1969.000000</td>\n",
       "      <td>1969.000000</td>\n",
       "    </tr>\n",
       "    <tr>\n",
       "      <th>mean</th>\n",
       "      <td>11347.086338</td>\n",
       "      <td>3.997461</td>\n",
       "      <td>6.325546</td>\n",
       "      <td>2013.288471</td>\n",
       "      <td>0.330117</td>\n",
       "      <td>0.330117</td>\n",
       "      <td>0.330117</td>\n",
       "    </tr>\n",
       "    <tr>\n",
       "      <th>std</th>\n",
       "      <td>155.277043</td>\n",
       "      <td>2.001141</td>\n",
       "      <td>3.416864</td>\n",
       "      <td>1.580198</td>\n",
       "      <td>0.470374</td>\n",
       "      <td>0.470374</td>\n",
       "      <td>0.470374</td>\n",
       "    </tr>\n",
       "    <tr>\n",
       "      <th>min</th>\n",
       "      <td>11101.000000</td>\n",
       "      <td>1.000000</td>\n",
       "      <td>1.000000</td>\n",
       "      <td>2011.000000</td>\n",
       "      <td>0.000000</td>\n",
       "      <td>0.000000</td>\n",
       "      <td>0.000000</td>\n",
       "    </tr>\n",
       "    <tr>\n",
       "      <th>25%</th>\n",
       "      <td>11219.000000</td>\n",
       "      <td>2.000000</td>\n",
       "      <td>3.000000</td>\n",
       "      <td>2012.000000</td>\n",
       "      <td>0.000000</td>\n",
       "      <td>0.000000</td>\n",
       "      <td>0.000000</td>\n",
       "    </tr>\n",
       "    <tr>\n",
       "      <th>50%</th>\n",
       "      <td>11337.000000</td>\n",
       "      <td>4.000000</td>\n",
       "      <td>6.000000</td>\n",
       "      <td>2013.000000</td>\n",
       "      <td>0.000000</td>\n",
       "      <td>0.000000</td>\n",
       "      <td>0.000000</td>\n",
       "    </tr>\n",
       "    <tr>\n",
       "      <th>75%</th>\n",
       "      <td>11502.000000</td>\n",
       "      <td>6.000000</td>\n",
       "      <td>9.000000</td>\n",
       "      <td>2015.000000</td>\n",
       "      <td>1.000000</td>\n",
       "      <td>1.000000</td>\n",
       "      <td>1.000000</td>\n",
       "    </tr>\n",
       "    <tr>\n",
       "      <th>max</th>\n",
       "      <td>11621.000000</td>\n",
       "      <td>7.000000</td>\n",
       "      <td>12.000000</td>\n",
       "      <td>2016.000000</td>\n",
       "      <td>1.000000</td>\n",
       "      <td>1.000000</td>\n",
       "      <td>1.000000</td>\n",
       "    </tr>\n",
       "  </tbody>\n",
       "</table>\n",
       "</div>"
      ],
      "text/plain": [
       "           wm_yr_wk         wday        month         year      snap_CA  \\\n",
       "count   1969.000000  1969.000000  1969.000000  1969.000000  1969.000000   \n",
       "mean   11347.086338     3.997461     6.325546  2013.288471     0.330117   \n",
       "std      155.277043     2.001141     3.416864     1.580198     0.470374   \n",
       "min    11101.000000     1.000000     1.000000  2011.000000     0.000000   \n",
       "25%    11219.000000     2.000000     3.000000  2012.000000     0.000000   \n",
       "50%    11337.000000     4.000000     6.000000  2013.000000     0.000000   \n",
       "75%    11502.000000     6.000000     9.000000  2015.000000     1.000000   \n",
       "max    11621.000000     7.000000    12.000000  2016.000000     1.000000   \n",
       "\n",
       "           snap_TX      snap_WI  \n",
       "count  1969.000000  1969.000000  \n",
       "mean      0.330117     0.330117  \n",
       "std       0.470374     0.470374  \n",
       "min       0.000000     0.000000  \n",
       "25%       0.000000     0.000000  \n",
       "50%       0.000000     0.000000  \n",
       "75%       1.000000     1.000000  \n",
       "max       1.000000     1.000000  "
      ]
     },
     "execution_count": 6,
     "metadata": {},
     "output_type": "execute_result"
    }
   ],
   "source": [
    "data.describe()\n",
    "#ne pas oublier que wm_yr_wk et wday sont des id du coup voir ce tableau n est pas tres utile\n",
    "#je n ai que les colonnes numeriques peut etre faudrait penser a convertir les qualitatives en num ( 7 colonnes)"
   ]
  },
  {
   "cell_type": "markdown",
   "id": "9ad0585e",
   "metadata": {},
   "source": [
    "# 1. Exploratory Data Analysis\n",
    "\n",
    "## Objectif :\n",
    "- Comprendre du mieux possible nos données \n",
    "- Faire le lien entre ce dataset et les 2 autres fournis\n",
    "\n",
    "## Checklist de base\n",
    "#### Analyse de Forme :\n",
    "\n",
    "•\tdate: The date in a “y-m-d” format.      \n",
    "•\twm_yr_wk: The id of the week the date belongs to.        \n",
    "•\tweekday: The type of the day (Saturday, Sunday, …, Friday).          \n",
    "•\twday: The id of the weekday, starting from Saturday.    \n",
    "•\tmonth: The month of the date.            \n",
    "•\tyear: The year of the date.      \n",
    "•\tevent_name_1: If the date includes an event, the name of this event.    \n",
    "•\tevent_type_1: If the date includes an event, the type of this event.       \n",
    "•\tevent_name_2: If the date includes a second event, the name of this event.      \n",
    "•\tevent_type_2: If the date includes a second event, the type of this event.         \n",
    "•\tsnap_CA, snap_TX, and snap_WI: A binary variable (0 or 1) indicating whether the stores of CA, TX or WI allow SNAP  purchases on the examined date. 1 indicates that SNAP purchases are allowed.\n",
    "\n",
    "\n",
    "- **lignes et colonnes** : (1969, 13) ce qui correspond a plus de 5 années d'enregistrement\n",
    "- **types de variables** : qualitatives : 6, quantitatives : 7\n",
    "- **Analyse des valeurs manquantes** :\n",
    "    - on a des valeurs manquantes dans les colonnes des events et de leurs id ce qui correspond tout simplement à une absence d'evenement particulier.\n",
    "    \n",
    "## Analyse plus détaillée\n",
    "\n",
    "- **Wday\n",
    "- vente constante entre les jours de la semaine\n",
    "- **Month\n",
    "- le mois de decembre et celui de janvier enregistrent le plus de vente ----> fetes de fin d'année\n",
    "- **year\n",
    "- il n'existe pas de changement dans le comportement du consommateur au fil de ces cinq années :  la premiere année démarre la fin du mois de janvier donc ce qui explique que le histo est un peu plus bas et la derniere année juqu' au mois de juin du coup c'est pareil(inférieur de moitié ) \n",
    "- **Snap CA, snap TX et snap WI \n",
    "- comportement constant on a un evenement \"positif\" ( 1 ) qui fait presque la moitié d'un evenement \"negatif\" (0)\n",
    "\n",
    "## remarque\n",
    "on a calculé le nombre de 'wm_yr_wk' qui est de 282 pour établir un lien avec le dataset \"sell_prices\""
   ]
  },
  {
   "cell_type": "code",
   "execution_count": 7,
   "id": "9635dd35",
   "metadata": {},
   "outputs": [
    {
     "data": {
      "text/plain": [
       "date            False\n",
       "wm_yr_wk        False\n",
       "weekday         False\n",
       "wday            False\n",
       "month           False\n",
       "year            False\n",
       "event_name_1     True\n",
       "event_type_1     True\n",
       "event_name_2     True\n",
       "event_type_2     True\n",
       "snap_CA         False\n",
       "snap_TX         False\n",
       "snap_WI         False\n",
       "dtype: bool"
      ]
     },
     "execution_count": 7,
     "metadata": {},
     "output_type": "execute_result"
    }
   ],
   "source": [
    "data.isnull().any()"
   ]
  },
  {
   "cell_type": "code",
   "execution_count": 8,
   "id": "673cde8e",
   "metadata": {},
   "outputs": [
    {
     "data": {
      "text/plain": [
       "SuperBowl              6\n",
       "Pesach End             6\n",
       "Ramadan starts         6\n",
       "ValentinesDay          6\n",
       "NBAFinalsEnd           6\n",
       "NBAFinalsStart         6\n",
       "MemorialDay            6\n",
       "Mother's day           6\n",
       "Purim End              6\n",
       "StPatricksDay          6\n",
       "LentWeek2              6\n",
       "LentStart              6\n",
       "PresidentsDay          6\n",
       "MartinLutherKingDay    5\n",
       "OrthodoxChristmas      5\n",
       "EidAlAdha              5\n",
       "NewYear                5\n",
       "Chanukah End           5\n",
       "Christmas              5\n",
       "Thanksgiving           5\n",
       "VeteransDay            5\n",
       "IndependenceDay        5\n",
       "Halloween              5\n",
       "ColumbusDay            5\n",
       "LaborDay               5\n",
       "Eid al-Fitr            5\n",
       "Cinco De Mayo          5\n",
       "OrthodoxEaster         5\n",
       "Easter                 5\n",
       "Father's day           4\n",
       "Name: event_name_1, dtype: int64"
      ]
     },
     "execution_count": 8,
     "metadata": {},
     "output_type": "execute_result"
    }
   ],
   "source": [
    "(data['event_name_1']).value_counts()"
   ]
  },
  {
   "cell_type": "markdown",
   "id": "fac28723",
   "metadata": {},
   "source": [
    "on commence à regarder de plus près quelques variables pour estimer leurs importance"
   ]
  },
  {
   "cell_type": "code",
   "execution_count": 9,
   "id": "564d0a77",
   "metadata": {},
   "outputs": [
    {
     "data": {
      "text/plain": [
       "array([[<AxesSubplot:title={'center':'wday'}>]], dtype=object)"
      ]
     },
     "execution_count": 9,
     "metadata": {},
     "output_type": "execute_result"
    },
    {
     "data": {
      "image/png": "[encoded data removed]",
      "text/plain": [
       "<Figure size 432x288 with 1 Axes>"
      ]
     },
     "metadata": {
      "needs_background": "light"
     },
     "output_type": "display_data"
    }
   ],
   "source": [
    "data.hist(column='wday')\n",
    "#wday: The id of the weekday, starting from Saturday."
   ]
  },
  {
   "cell_type": "code",
   "execution_count": 10,
   "id": "4d089193",
   "metadata": {},
   "outputs": [
    {
     "data": {
      "text/plain": [
       "<AxesSubplot:ylabel='Density'>"
      ]
     },
     "execution_count": 10,
     "metadata": {},
     "output_type": "execute_result"
    },
    {
     "data": {
      "image/png": "[encoded data removed]",
      "text/plain": [
       "<Figure size 432x288 with 1 Axes>"
      ]
     },
     "metadata": {
      "needs_background": "light"
     },
     "output_type": "display_data"
    }
   ],
   "source": [
    "# density plot\n",
    "# kernel density estimation\n",
    "data['wday'].plot.kde()"
   ]
  },
  {
   "cell_type": "code",
   "execution_count": 11,
   "id": "82cca930",
   "metadata": {},
   "outputs": [
    {
     "data": {
      "text/plain": [
       "<AxesSubplot:ylabel='wday'>"
      ]
     },
     "execution_count": 11,
     "metadata": {},
     "output_type": "execute_result"
    },
    {
     "data": {
      "image/png": "[encoded data removed]",
      "text/plain": [
       "<Figure size 432x288 with 1 Axes>"
      ]
     },
     "metadata": {},
     "output_type": "display_data"
    }
   ],
   "source": [
    "# diagramme à secteurs \n",
    "data['wday'].value_counts().plot.pie()"
   ]
  },
  {
   "cell_type": "markdown",
   "id": "88789c27",
   "metadata": {},
   "source": [
    "On peut deja remarquer que les achats sont à priori repartis equitablement entre les jours de semaine.  \n",
    "On peut commencer à regarder les mois de plus près maintenant !"
   ]
  },
  {
   "cell_type": "code",
   "execution_count": 12,
   "id": "618bb12e",
   "metadata": {},
   "outputs": [
    {
     "data": {
      "text/plain": [
       "array([[<AxesSubplot:title={'center':'month'}>]], dtype=object)"
      ]
     },
     "execution_count": 12,
     "metadata": {},
     "output_type": "execute_result"
    },
    {
     "data": {
      "image/png": "[encoded data removed]",
      "text/plain": [
       "<Figure size 432x288 with 1 Axes>"
      ]
     },
     "metadata": {
      "needs_background": "light"
     },
     "output_type": "display_data"
    }
   ],
   "source": [
    "data.hist(column='month')"
   ]
  },
  {
   "cell_type": "code",
   "execution_count": 13,
   "id": "f568eca6",
   "metadata": {},
   "outputs": [
    {
     "data": {
      "text/plain": [
       "<AxesSubplot:ylabel='Density'>"
      ]
     },
     "execution_count": 13,
     "metadata": {},
     "output_type": "execute_result"
    },
    {
     "data": {
      "image/png": "[encoded data removed]",
      "text/plain": [
       "<Figure size 432x288 with 1 Axes>"
      ]
     },
     "metadata": {
      "needs_background": "light"
     },
     "output_type": "display_data"
    }
   ],
   "source": [
    "data['month'].plot.kde()"
   ]
  },
  {
   "cell_type": "code",
   "execution_count": 14,
   "id": "8dd626ae",
   "metadata": {},
   "outputs": [
    {
     "data": {
      "text/plain": [
       "<AxesSubplot:ylabel='month'>"
      ]
     },
     "execution_count": 14,
     "metadata": {},
     "output_type": "execute_result"
    },
    {
     "data": {
      "image/png": "[encoded data removed]",
      "text/plain": [
       "<Figure size 432x288 with 1 Axes>"
      ]
     },
     "metadata": {},
     "output_type": "display_data"
    }
   ],
   "source": [
    "data['month'].value_counts().plot.pie()"
   ]
  },
  {
   "cell_type": "markdown",
   "id": "38b9d0b7",
   "metadata": {},
   "source": [
    "A priori les achats sont plus accentués en fetes de fin d année et en debut d'année.  \n",
    "Maintenant je vais m'intéresser aux années pour voir si y'a un changement dans le comportement du consommateur au fil de ces cinq années"
   ]
  },
  {
   "cell_type": "code",
   "execution_count": 15,
   "id": "39f9ec23",
   "metadata": {},
   "outputs": [
    {
     "data": {
      "text/plain": [
       "array([[<AxesSubplot:title={'center':'year'}>]], dtype=object)"
      ]
     },
     "execution_count": 15,
     "metadata": {},
     "output_type": "execute_result"
    },
    {
     "data": {
      "image/png": "[encoded data removed]",
      "text/plain": [
       "<Figure size 432x288 with 1 Axes>"
      ]
     },
     "metadata": {
      "needs_background": "light"
     },
     "output_type": "display_data"
    }
   ],
   "source": [
    "data.hist(column='year')"
   ]
  },
  {
   "cell_type": "markdown",
   "id": "fbf02995",
   "metadata": {},
   "source": [
    "The historical data range from 2011-01-29 to 2016-06-19.  \n",
    "Et du coup ça explique la raison pour laquelle 2016 et 2011 sont visiblement bas comparées aux autres"
   ]
  },
  {
   "cell_type": "code",
   "execution_count": 16,
   "id": "62f9b4b6",
   "metadata": {},
   "outputs": [
    {
     "data": {
      "text/plain": [
       "<AxesSubplot:ylabel='Density'>"
      ]
     },
     "execution_count": 16,
     "metadata": {},
     "output_type": "execute_result"
    },
    {
     "data": {
      "image/png": "[encoded data removed]",
      "text/plain": [
       "<Figure size 432x288 with 1 Axes>"
      ]
     },
     "metadata": {
      "needs_background": "light"
     },
     "output_type": "display_data"
    }
   ],
   "source": [
    "data['year'].plot.kde()"
   ]
  },
  {
   "cell_type": "markdown",
   "id": "8c24de7a",
   "metadata": {},
   "source": [
    "même constat!  mais on peut penser que la consommation reste stable durant ces 5 années"
   ]
  },
  {
   "cell_type": "markdown",
   "id": "5d9e0f3a",
   "metadata": {},
   "source": [
    "Voyons voir les colonnes snap dans chaque état "
   ]
  },
  {
   "cell_type": "code",
   "execution_count": 17,
   "id": "44576b1e",
   "metadata": {},
   "outputs": [
    {
     "data": {
      "text/plain": [
       "array([[<AxesSubplot:title={'center':'snap_CA'}>]], dtype=object)"
      ]
     },
     "execution_count": 17,
     "metadata": {},
     "output_type": "execute_result"
    },
    {
     "data": {
      "image/png": "[encoded data removed]",
      "text/plain": [
       "<Figure size 432x288 with 1 Axes>"
      ]
     },
     "metadata": {
      "needs_background": "light"
     },
     "output_type": "display_data"
    }
   ],
   "source": [
    "data.hist(column='snap_CA')"
   ]
  },
  {
   "cell_type": "code",
   "execution_count": 18,
   "id": "600a7180",
   "metadata": {},
   "outputs": [
    {
     "data": {
      "text/plain": [
       "array([[<AxesSubplot:title={'center':'snap_TX'}>]], dtype=object)"
      ]
     },
     "execution_count": 18,
     "metadata": {},
     "output_type": "execute_result"
    },
    {
     "data": {
      "image/png": "[encoded data removed]",
      "text/plain": [
       "<Figure size 432x288 with 1 Axes>"
      ]
     },
     "metadata": {
      "needs_background": "light"
     },
     "output_type": "display_data"
    }
   ],
   "source": [
    "data.hist(column='snap_TX')"
   ]
  },
  {
   "cell_type": "code",
   "execution_count": 19,
   "id": "7963ae00",
   "metadata": {},
   "outputs": [
    {
     "data": {
      "text/plain": [
       "array([[<AxesSubplot:title={'center':'snap_WI'}>]], dtype=object)"
      ]
     },
     "execution_count": 19,
     "metadata": {},
     "output_type": "execute_result"
    },
    {
     "data": {
      "image/png": "[encoded data removed]",
      "text/plain": [
       "<Figure size 432x288 with 1 Axes>"
      ]
     },
     "metadata": {
      "needs_background": "light"
     },
     "output_type": "display_data"
    }
   ],
   "source": [
    "data.hist(column='snap_WI')"
   ]
  },
  {
   "cell_type": "markdown",
   "id": "5fbc03e7",
   "metadata": {},
   "source": [
    "On constate que les snap ou y a eu un évenement marquant sont 50% inférieur à ceux ou ya rien eu ! ça tient la route !"
   ]
  },
  {
   "cell_type": "code",
   "execution_count": 20,
   "id": "43c5caac",
   "metadata": {},
   "outputs": [
    {
     "data": {
      "text/plain": [
       "282"
      ]
     },
     "execution_count": 20,
     "metadata": {},
     "output_type": "execute_result"
    }
   ],
   "source": [
    "data['wm_yr_wk'].nunique()"
   ]
  },
  {
   "cell_type": "code",
   "execution_count": 21,
   "id": "7780b4a2",
   "metadata": {},
   "outputs": [
    {
     "name": "stdout",
     "output_type": "stream",
     "text": [
      "       wm_yr_wk variable       value\n",
      "0         11101     date  2011-01-29\n",
      "1         11101     date  2011-01-30\n",
      "2         11101     date  2011-01-31\n",
      "3         11101     date  2011-02-01\n",
      "4         11101     date  2011-02-02\n",
      "...         ...      ...         ...\n",
      "23623     11620  snap_WI           1\n",
      "23624     11620  snap_WI           0\n",
      "23625     11620  snap_WI           0\n",
      "23626     11621  snap_WI           0\n",
      "23627     11621  snap_WI           0\n",
      "\n",
      "[23628 rows x 3 columns]\n"
     ]
    }
   ],
   "source": [
    "dataframe = pd.melt(data, id_vars=['wm_yr_wk'])\n",
    "\n",
    "print(dataframe)"
   ]
  },
  {
   "cell_type": "code",
   "execution_count": null,
   "id": "b20226f9",
   "metadata": {},
   "outputs": [],
   "source": []
  }
 ],
 "metadata": {
  "kernelspec": {
   "display_name": "Python 3 (ipykernel)",
   "language": "python",
   "name": "python3"
  },
  "language_info": {
   "codemirror_mode": {
    "name": "ipython",
    "version": 3
   },
   "file_extension": ".py",
   "mimetype": "text/x-python",
   "name": "python",
   "nbconvert_exporter": "python",
   "pygments_lexer": "ipython3",
   "version": "3.9.7"
  }
 },
 "nbformat": 4,
 "nbformat_minor": 5
}
