{
 "cells": [
  {
   "cell_type": "code",
   "execution_count": 2,
   "id": "cb12fe98",
   "metadata": {},
   "outputs": [
    {
     "name": "stdout",
     "output_type": "stream",
     "text": [
      "Collecting nb-black\n",
      "  Downloading nb_black-1.0.7.tar.gz (4.8 kB)\n",
      "Requirement already satisfied: ipython in c:\\users\\user\\anaconda3\\lib\\site-packages (from nb-black) (7.29.0)\n",
      "Requirement already satisfied: black>='19.3' in c:\\users\\user\\anaconda3\\lib\\site-packages (from nb-black) (19.10b0)\n",
      "Requirement already satisfied: typed-ast>=1.4.0 in c:\\users\\user\\anaconda3\\lib\\site-packages (from black>='19.3'->nb-black) (1.4.3)\n",
      "Requirement already satisfied: toml>=0.9.4 in c:\\users\\user\\anaconda3\\lib\\site-packages (from black>='19.3'->nb-black) (0.10.2)\n",
      "Requirement already satisfied: attrs>=18.1.0 in c:\\users\\user\\anaconda3\\lib\\site-packages (from black>='19.3'->nb-black) (21.2.0)\n",
      "Requirement already satisfied: click>=6.5 in c:\\users\\user\\anaconda3\\lib\\site-packages (from black>='19.3'->nb-black) (8.0.3)\n",
      "Requirement already satisfied: appdirs in c:\\users\\user\\anaconda3\\lib\\site-packages (from black>='19.3'->nb-black) (1.4.4)\n",
      "Requirement already satisfied: regex in c:\\users\\user\\anaconda3\\lib\\site-packages (from black>='19.3'->nb-black) (2021.8.3)\n",
      "Requirement already satisfied: pathspec<1,>=0.6 in c:\\users\\user\\anaconda3\\lib\\site-packages (from black>='19.3'->nb-black) (0.7.0)\n",
      "Requirement already satisfied: colorama in c:\\users\\user\\anaconda3\\lib\\site-packages (from click>=6.5->black>='19.3'->nb-black) (0.4.4)\n",
      "Requirement already satisfied: traitlets>=4.2 in c:\\users\\user\\anaconda3\\lib\\site-packages (from ipython->nb-black) (5.1.0)\n",
      "Requirement already satisfied: setuptools>=18.5 in c:\\users\\user\\anaconda3\\lib\\site-packages (from ipython->nb-black) (58.0.4)\n",
      "Requirement already satisfied: matplotlib-inline in c:\\users\\user\\anaconda3\\lib\\site-packages (from ipython->nb-black) (0.1.2)\n",
      "Requirement already satisfied: decorator in c:\\users\\user\\anaconda3\\lib\\site-packages (from ipython->nb-black) (5.1.0)\n",
      "Requirement already satisfied: prompt-toolkit!=3.0.0,!=3.0.1,<3.1.0,>=2.0.0 in c:\\users\\user\\anaconda3\\lib\\site-packages (from ipython->nb-black) (3.0.20)\n",
      "Requirement already satisfied: jedi>=0.16 in c:\\users\\user\\anaconda3\\lib\\site-packages (from ipython->nb-black) (0.18.0)\n",
      "Requirement already satisfied: pygments in c:\\users\\user\\anaconda3\\lib\\site-packages (from ipython->nb-black) (2.10.0)\n",
      "Requirement already satisfied: backcall in c:\\users\\user\\anaconda3\\lib\\site-packages (from ipython->nb-black) (0.2.0)\n",
      "Requirement already satisfied: pickleshare in c:\\users\\user\\anaconda3\\lib\\site-packages (from ipython->nb-black) (0.7.5)\n",
      "Requirement already satisfied: parso<0.9.0,>=0.8.0 in c:\\users\\user\\anaconda3\\lib\\site-packages (from jedi>=0.16->ipython->nb-black) (0.8.2)\n",
      "Requirement already satisfied: wcwidth in c:\\users\\user\\anaconda3\\lib\\site-packages (from prompt-toolkit!=3.0.0,!=3.0.1,<3.1.0,>=2.0.0->ipython->nb-black) (0.2.5)\n",
      "Building wheels for collected packages: nb-black\n",
      "  Building wheel for nb-black (setup.py): started\n",
      "  Building wheel for nb-black (setup.py): finished with status 'done'\n",
      "  Created wheel for nb-black: filename=nb_black-1.0.7-py3-none-any.whl size=5298 sha256=da817705e22b18f8b9cb9cee502ec4ddb067a6641cfd4380076b4d2cd05abfeb\n",
      "  Stored in directory: c:\\users\\user\\appdata\\local\\pip\\cache\\wheels\\25\\9d\\fc\\6312e3d8a66c164cc7f9d80bc66cc25de03a362a30b9f84aa3\n",
      "Successfully built nb-black\n",
      "Installing collected packages: nb-black\n",
      "Successfully installed nb-black-1.0.7\n",
      "Note: you may need to restart the kernel to use updated packages.\n"
     ]
    }
   ],
   "source": [
    "pip install nb-black"
   ]
  },
  {
   "cell_type": "code",
   "execution_count": null,
   "id": "e222312c",
   "metadata": {},
   "outputs": [],
   "source": [
    "# Standard setups\n",
    "%load_ext lab_black\n",
    "import pandas as pd\n",
    "import os\n",
    "\n",
    "os.chdir(r\"C:\\Users\\user\\Desktop\\M5\\data/calendar.csv\")"
   ]
  },
  {
   "cell_type": "code",
   "execution_count": null,
   "id": "34253ce8",
   "metadata": {},
   "outputs": [],
   "source": []
  }
 ],
 "metadata": {
  "kernelspec": {
   "display_name": "Python 3 (ipykernel)",
   "language": "python",
   "name": "python3"
  },
  "language_info": {
   "codemirror_mode": {
    "name": "ipython",
    "version": 3
   },
   "file_extension": ".py",
   "mimetype": "text/x-python",
   "name": "python",
   "nbconvert_exporter": "python",
   "pygments_lexer": "ipython3",
   "version": "3.9.7"
  }
 },
 "nbformat": 4,
 "nbformat_minor": 5
}
